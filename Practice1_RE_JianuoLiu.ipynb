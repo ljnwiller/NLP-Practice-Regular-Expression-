{
 "cells": [
  {
   "cell_type": "code",
   "execution_count": 1,
   "metadata": {},
   "outputs": [
    {
     "name": "stdout",
     "output_type": "stream",
     "text": [
      "1\n"
     ]
    }
   ],
   "source": [
    "# DTI5125 Jianuo Liu, Spring/Summer 2021\n",
    "import re\n",
    "S = \"heeellooo\"\n",
    "\n",
    "def isStretchy(S, word):\n",
    "    i = 0\n",
    "    while(i < len(word)):\n",
    "        regex = word[i] + \"+\"\n",
    "        match = re.match(regex, S)\n",
    "        if match == None:\n",
    "            return False\n",
    "        if i < len(word) - 1 and word[i+1] == word[i]:\n",
    "            if len(match.group()) >= 3:\n",
    "                if len(re.search(word[i]+\"+\", word).group()) > len(match.group()):\n",
    "                    return False\n",
    "                index = match.end(0)\n",
    "                i = re.search(word[i]+\"+\", word).end(0)-1\n",
    "            else:\n",
    "                index = match.start(0) + 1\n",
    "        else:\n",
    "            if len(match.group(0)) == 2:\n",
    "                return False\n",
    "            index = match.end(0)\n",
    "        S = S[index:]\n",
    "        i += 1\n",
    "    if len(S) > 0:\n",
    "        return False\n",
    "    return True\n",
    "\n",
    "def stretchy(S, words):\n",
    "    result = 0\n",
    "    for word in words:\n",
    "        if isStretchy(S, word):\n",
    "            result += 1\n",
    "    return result\n",
    "\n",
    "words = [\"hello\", \"hi\", \"helo\"]\n",
    "print(stretchy(S, words))"
   ]
  }
 ],
 "metadata": {
  "kernelspec": {
   "display_name": "Python 3",
   "language": "python",
   "name": "python3"
  },
  "language_info": {
   "codemirror_mode": {
    "name": "ipython",
    "version": 3
   },
   "file_extension": ".py",
   "mimetype": "text/x-python",
   "name": "python",
   "nbconvert_exporter": "python",
   "pygments_lexer": "ipython3",
   "version": "3.7.1"
  }
 },
 "nbformat": 4,
 "nbformat_minor": 4
}
